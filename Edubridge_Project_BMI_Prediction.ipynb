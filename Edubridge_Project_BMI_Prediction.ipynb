{
 "cells": [
  {
   "cell_type": "markdown",
   "metadata": {},
   "source": [
    "# BMI PREDICTION PROJECT\n",
    "### by AJAY KARTHICK M"
   ]
  },
  {
   "cell_type": "markdown",
   "metadata": {},
   "source": [
    "Gender : Male / Female\n",
    "\n",
    "Height : Number (cm)\n",
    "\n",
    "Weight : Number (Kg)\n",
    "\n",
    "Index :\n",
    "\n",
    "0 - Extremely Weak\n",
    "\n",
    "1 - Weak\n",
    "\n",
    "2 - Normal\n",
    "\n",
    "3 - Overweight\n",
    "\n",
    "4 - Obesity\n",
    "\n",
    "5 - Extreme Obesity"
   ]
  },
  {
   "cell_type": "code",
   "execution_count": 1,
   "metadata": {},
   "outputs": [],
   "source": [
    "import numpy as np # linear algebra\n",
    "import pandas as pd \n",
    "\n",
    "import matplotlib.pyplot as plt\n",
    "import seaborn as sns"
   ]
  },
  {
   "cell_type": "code",
   "execution_count": 2,
   "metadata": {},
   "outputs": [],
   "source": [
    "#read csv\n",
    "df=pd.read_csv(\"/Users/antonio/Desktop/daticodice/500_Person_Gender_Height_Weight_Index.csv\",sep=',',header=0)\n",
    "df_2=pd.read_csv(\"/Users/antonio/Desktop/daticodice/500_Person_Gender_Height_Weight_Index.csv\",sep=',',header=0)"
   ]
  },
  {
   "cell_type": "code",
   "execution_count": 3,
   "metadata": {},
   "outputs": [
    {
     "data": {
      "text/html": [
       "<div>\n",
       "<style scoped>\n",
       "    .dataframe tbody tr th:only-of-type {\n",
       "        vertical-align: middle;\n",
       "    }\n",
       "\n",
       "    .dataframe tbody tr th {\n",
       "        vertical-align: top;\n",
       "    }\n",
       "\n",
       "    .dataframe thead th {\n",
       "        text-align: right;\n",
       "    }\n",
       "</style>\n",
       "<table border=\"1\" class=\"dataframe\">\n",
       "  <thead>\n",
       "    <tr style=\"text-align: right;\">\n",
       "      <th></th>\n",
       "      <th>Gender</th>\n",
       "      <th>Height</th>\n",
       "      <th>Weight</th>\n",
       "      <th>Index</th>\n",
       "    </tr>\n",
       "  </thead>\n",
       "  <tbody>\n",
       "    <tr>\n",
       "      <th>0</th>\n",
       "      <td>Male</td>\n",
       "      <td>174</td>\n",
       "      <td>96</td>\n",
       "      <td>4</td>\n",
       "    </tr>\n",
       "    <tr>\n",
       "      <th>1</th>\n",
       "      <td>Male</td>\n",
       "      <td>189</td>\n",
       "      <td>87</td>\n",
       "      <td>2</td>\n",
       "    </tr>\n",
       "    <tr>\n",
       "      <th>2</th>\n",
       "      <td>Female</td>\n",
       "      <td>185</td>\n",
       "      <td>110</td>\n",
       "      <td>4</td>\n",
       "    </tr>\n",
       "    <tr>\n",
       "      <th>3</th>\n",
       "      <td>Female</td>\n",
       "      <td>195</td>\n",
       "      <td>104</td>\n",
       "      <td>3</td>\n",
       "    </tr>\n",
       "    <tr>\n",
       "      <th>4</th>\n",
       "      <td>Male</td>\n",
       "      <td>149</td>\n",
       "      <td>61</td>\n",
       "      <td>3</td>\n",
       "    </tr>\n",
       "    <tr>\n",
       "      <th>5</th>\n",
       "      <td>Male</td>\n",
       "      <td>189</td>\n",
       "      <td>104</td>\n",
       "      <td>3</td>\n",
       "    </tr>\n",
       "    <tr>\n",
       "      <th>6</th>\n",
       "      <td>Male</td>\n",
       "      <td>147</td>\n",
       "      <td>92</td>\n",
       "      <td>5</td>\n",
       "    </tr>\n",
       "    <tr>\n",
       "      <th>7</th>\n",
       "      <td>Male</td>\n",
       "      <td>154</td>\n",
       "      <td>111</td>\n",
       "      <td>5</td>\n",
       "    </tr>\n",
       "    <tr>\n",
       "      <th>8</th>\n",
       "      <td>Male</td>\n",
       "      <td>174</td>\n",
       "      <td>90</td>\n",
       "      <td>3</td>\n",
       "    </tr>\n",
       "    <tr>\n",
       "      <th>9</th>\n",
       "      <td>Female</td>\n",
       "      <td>169</td>\n",
       "      <td>103</td>\n",
       "      <td>4</td>\n",
       "    </tr>\n",
       "  </tbody>\n",
       "</table>\n",
       "</div>"
      ],
      "text/plain": [
       "   Gender  Height  Weight  Index\n",
       "0    Male     174      96      4\n",
       "1    Male     189      87      2\n",
       "2  Female     185     110      4\n",
       "3  Female     195     104      3\n",
       "4    Male     149      61      3\n",
       "5    Male     189     104      3\n",
       "6    Male     147      92      5\n",
       "7    Male     154     111      5\n",
       "8    Male     174      90      3\n",
       "9  Female     169     103      4"
      ]
     },
     "execution_count": 3,
     "metadata": {},
     "output_type": "execute_result"
    }
   ],
   "source": [
    "df.head(10)"
   ]
  },
  {
   "cell_type": "code",
   "execution_count": 4,
   "metadata": {},
   "outputs": [
    {
     "data": {
      "text/plain": [
       "(500, 4)"
      ]
     },
     "execution_count": 4,
     "metadata": {},
     "output_type": "execute_result"
    }
   ],
   "source": [
    "df.shape"
   ]
  },
  {
   "cell_type": "code",
   "execution_count": 7,
   "metadata": {},
   "outputs": [
    {
     "data": {
      "text/html": [
       "<div>\n",
       "<style scoped>\n",
       "    .dataframe tbody tr th:only-of-type {\n",
       "        vertical-align: middle;\n",
       "    }\n",
       "\n",
       "    .dataframe tbody tr th {\n",
       "        vertical-align: top;\n",
       "    }\n",
       "\n",
       "    .dataframe thead th {\n",
       "        text-align: right;\n",
       "    }\n",
       "</style>\n",
       "<table border=\"1\" class=\"dataframe\">\n",
       "  <thead>\n",
       "    <tr style=\"text-align: right;\">\n",
       "      <th></th>\n",
       "      <th>Height</th>\n",
       "      <th>Weight</th>\n",
       "      <th>Index</th>\n",
       "    </tr>\n",
       "  </thead>\n",
       "  <tbody>\n",
       "    <tr>\n",
       "      <th>count</th>\n",
       "      <td>500.000000</td>\n",
       "      <td>500.000000</td>\n",
       "      <td>500.000000</td>\n",
       "    </tr>\n",
       "    <tr>\n",
       "      <th>mean</th>\n",
       "      <td>169.944000</td>\n",
       "      <td>106.000000</td>\n",
       "      <td>3.748000</td>\n",
       "    </tr>\n",
       "    <tr>\n",
       "      <th>std</th>\n",
       "      <td>16.375261</td>\n",
       "      <td>32.382607</td>\n",
       "      <td>1.355053</td>\n",
       "    </tr>\n",
       "    <tr>\n",
       "      <th>min</th>\n",
       "      <td>140.000000</td>\n",
       "      <td>50.000000</td>\n",
       "      <td>0.000000</td>\n",
       "    </tr>\n",
       "    <tr>\n",
       "      <th>25%</th>\n",
       "      <td>156.000000</td>\n",
       "      <td>80.000000</td>\n",
       "      <td>3.000000</td>\n",
       "    </tr>\n",
       "    <tr>\n",
       "      <th>50%</th>\n",
       "      <td>170.500000</td>\n",
       "      <td>106.000000</td>\n",
       "      <td>4.000000</td>\n",
       "    </tr>\n",
       "    <tr>\n",
       "      <th>75%</th>\n",
       "      <td>184.000000</td>\n",
       "      <td>136.000000</td>\n",
       "      <td>5.000000</td>\n",
       "    </tr>\n",
       "    <tr>\n",
       "      <th>max</th>\n",
       "      <td>199.000000</td>\n",
       "      <td>160.000000</td>\n",
       "      <td>5.000000</td>\n",
       "    </tr>\n",
       "  </tbody>\n",
       "</table>\n",
       "</div>"
      ],
      "text/plain": [
       "           Height      Weight       Index\n",
       "count  500.000000  500.000000  500.000000\n",
       "mean   169.944000  106.000000    3.748000\n",
       "std     16.375261   32.382607    1.355053\n",
       "min    140.000000   50.000000    0.000000\n",
       "25%    156.000000   80.000000    3.000000\n",
       "50%    170.500000  106.000000    4.000000\n",
       "75%    184.000000  136.000000    5.000000\n",
       "max    199.000000  160.000000    5.000000"
      ]
     },
     "execution_count": 7,
     "metadata": {},
     "output_type": "execute_result"
    }
   ],
   "source": [
    "df.describe()"
   ]
  },
  {
   "cell_type": "code",
   "execution_count": 8,
   "metadata": {},
   "outputs": [
    {
     "data": {
      "text/html": [
       "<div>\n",
       "<style scoped>\n",
       "    .dataframe tbody tr th:only-of-type {\n",
       "        vertical-align: middle;\n",
       "    }\n",
       "\n",
       "    .dataframe tbody tr th {\n",
       "        vertical-align: top;\n",
       "    }\n",
       "\n",
       "    .dataframe thead th {\n",
       "        text-align: right;\n",
       "    }\n",
       "</style>\n",
       "<table border=\"1\" class=\"dataframe\">\n",
       "  <thead>\n",
       "    <tr style=\"text-align: right;\">\n",
       "      <th></th>\n",
       "      <th>Gender</th>\n",
       "      <th>Height</th>\n",
       "      <th>Weight</th>\n",
       "      <th>Index</th>\n",
       "      <th>Status</th>\n",
       "    </tr>\n",
       "  </thead>\n",
       "  <tbody>\n",
       "    <tr>\n",
       "      <th>0</th>\n",
       "      <td>Male</td>\n",
       "      <td>174</td>\n",
       "      <td>96</td>\n",
       "      <td>4</td>\n",
       "      <td>Obesity</td>\n",
       "    </tr>\n",
       "    <tr>\n",
       "      <th>1</th>\n",
       "      <td>Male</td>\n",
       "      <td>189</td>\n",
       "      <td>87</td>\n",
       "      <td>2</td>\n",
       "      <td>Normal</td>\n",
       "    </tr>\n",
       "    <tr>\n",
       "      <th>2</th>\n",
       "      <td>Female</td>\n",
       "      <td>185</td>\n",
       "      <td>110</td>\n",
       "      <td>4</td>\n",
       "      <td>Obesity</td>\n",
       "    </tr>\n",
       "    <tr>\n",
       "      <th>3</th>\n",
       "      <td>Female</td>\n",
       "      <td>195</td>\n",
       "      <td>104</td>\n",
       "      <td>3</td>\n",
       "      <td>Overweight</td>\n",
       "    </tr>\n",
       "    <tr>\n",
       "      <th>4</th>\n",
       "      <td>Male</td>\n",
       "      <td>149</td>\n",
       "      <td>61</td>\n",
       "      <td>3</td>\n",
       "      <td>Overweight</td>\n",
       "    </tr>\n",
       "    <tr>\n",
       "      <th>5</th>\n",
       "      <td>Male</td>\n",
       "      <td>189</td>\n",
       "      <td>104</td>\n",
       "      <td>3</td>\n",
       "      <td>Overweight</td>\n",
       "    </tr>\n",
       "    <tr>\n",
       "      <th>6</th>\n",
       "      <td>Male</td>\n",
       "      <td>147</td>\n",
       "      <td>92</td>\n",
       "      <td>5</td>\n",
       "      <td>Extreme Obesity</td>\n",
       "    </tr>\n",
       "    <tr>\n",
       "      <th>7</th>\n",
       "      <td>Male</td>\n",
       "      <td>154</td>\n",
       "      <td>111</td>\n",
       "      <td>5</td>\n",
       "      <td>Extreme Obesity</td>\n",
       "    </tr>\n",
       "    <tr>\n",
       "      <th>8</th>\n",
       "      <td>Male</td>\n",
       "      <td>174</td>\n",
       "      <td>90</td>\n",
       "      <td>3</td>\n",
       "      <td>Overweight</td>\n",
       "    </tr>\n",
       "    <tr>\n",
       "      <th>9</th>\n",
       "      <td>Female</td>\n",
       "      <td>169</td>\n",
       "      <td>103</td>\n",
       "      <td>4</td>\n",
       "      <td>Obesity</td>\n",
       "    </tr>\n",
       "  </tbody>\n",
       "</table>\n",
       "</div>"
      ],
      "text/plain": [
       "   Gender  Height  Weight  Index           Status\n",
       "0    Male     174      96      4          Obesity\n",
       "1    Male     189      87      2           Normal\n",
       "2  Female     185     110      4          Obesity\n",
       "3  Female     195     104      3       Overweight\n",
       "4    Male     149      61      3       Overweight\n",
       "5    Male     189     104      3       Overweight\n",
       "6    Male     147      92      5  Extreme Obesity\n",
       "7    Male     154     111      5  Extreme Obesity\n",
       "8    Male     174      90      3       Overweight\n",
       "9  Female     169     103      4          Obesity"
      ]
     },
     "execution_count": 8,
     "metadata": {},
     "output_type": "execute_result"
    }
   ],
   "source": [
    "def convert_status(x):\n",
    "    if x['Index'] == 0:\n",
    "        return 'Extremely Weak'\n",
    "    elif x['Index'] == 1:\n",
    "        return 'Weak'\n",
    "    elif x['Index'] == 2:\n",
    "        return 'Normal'\n",
    "    elif x['Index'] == 3:\n",
    "        return 'Overweight'\n",
    "    elif x['Index']== 4:\n",
    "        return 'Obesity'\n",
    "    elif x['Index'] == 5:\n",
    "        return 'Extreme Obesity'\n",
    "df_2['Status'] = df_2.apply(convert_status,axis=1)\n",
    "df_2.head(10)"
   ]
  },
  {
   "cell_type": "code",
   "execution_count": 9,
   "metadata": {},
   "outputs": [
    {
     "data": {
      "text/plain": [
       "<AxesSubplot:title={'center':'Average Weight for each Index value'}, xlabel='Status', ylabel='Weight'>"
      ]
     },
     "execution_count": 9,
     "metadata": {},
     "output_type": "execute_result"
    },
    {
     "data": {
      "image/png": "[encoded data removed]",
      "text/plain": [
       "<Figure size 720x432 with 1 Axes>"
      ]
     },
     "metadata": {
      "needs_background": "light"
     },
     "output_type": "display_data"
    }
   ],
   "source": [
    "plt.figure(figsize = (10,6))\n",
    "plt.title(\"Average Weight for each Index value\")\n",
    "sns.barplot(x = df_2[\"Status\"], y = df_2[\"Weight\"], hue = df_2[\"Gender\"])"
   ]
  },
  {
   "cell_type": "code",
   "execution_count": 10,
   "metadata": {},
   "outputs": [
    {
     "data": {
      "text/plain": [
       "<AxesSubplot:title={'center':'Average Height for each Index value'}, xlabel='Status', ylabel='Height'>"
      ]
     },
     "execution_count": 10,
     "metadata": {},
     "output_type": "execute_result"
    },
    {
     "data": {
      "image/png": "[encoded data removed]",
      "text/plain": [
       "<Figure size 720x432 with 1 Axes>"
      ]
     },
     "metadata": {
      "needs_background": "light"
     },
     "output_type": "display_data"
    }
   ],
   "source": [
    "plt.figure(figsize = (10,6))\n",
    "plt.title(\"Average Height for each Index value\")\n",
    "sns.barplot(x = df_2[\"Status\"], y = df_2[\"Height\"], hue = df_2[\"Gender\"])"
   ]
  },
  {
   "cell_type": "code",
   "execution_count": 11,
   "metadata": {},
   "outputs": [
    {
     "data": {
      "text/plain": [
       "Extreme Obesity    198\n",
       "Obesity            130\n",
       "Normal              69\n",
       "Overweight          68\n",
       "Weak                22\n",
       "Extremely Weak      13\n",
       "Name: Status, dtype: int64"
      ]
     },
     "execution_count": 11,
     "metadata": {},
     "output_type": "execute_result"
    }
   ],
   "source": [
    "Percentage=df_2['Status'].value_counts()\n",
    "Percentage"
   ]
  },
  {
   "cell_type": "code",
   "execution_count": 12,
   "metadata": {},
   "outputs": [
    {
     "data": {
      "image/png": "[encoded data removed]",
      "text/plain": [
       "<Figure size 1080x360 with 1 Axes>"
      ]
     },
     "metadata": {
      "needs_background": "light"
     },
     "output_type": "display_data"
    }
   ],
   "source": [
    "tab = pd.crosstab(index=df_2['Status'], columns=df_2['Gender'])\n",
    "tab.plot(kind=\"bar\", stacked=False, figsize=(15,5))\n",
    "plt.xlabel('Status')\n",
    "plt.ylabel('Count')\n",
    "plt.legend()\n",
    "plt.show()"
   ]
  },
  {
   "cell_type": "code",
   "execution_count": 14,
   "metadata": {},
   "outputs": [
    {
     "data": {
      "text/plain": [
       "Female    255\n",
       "Male      245\n",
       "Name: Gender, dtype: int64"
      ]
     },
     "execution_count": 14,
     "metadata": {},
     "output_type": "execute_result"
    }
   ],
   "source": [
    "gender=df_2['Gender'].value_counts()\n",
    "gender"
   ]
  },
  {
   "cell_type": "code",
   "execution_count": 26,
   "metadata": {},
   "outputs": [],
   "source": [
    "#Making a BMI Column using the formula for BMI\n",
    "df_2[\"BMI\"] = round(df_2[\"Weight\"]/((df_2[\"Height\"])/100)**2, 2)   #Weight(Kg)/Height(m)^2"
   ]
  },
  {
   "cell_type": "code",
   "execution_count": 27,
   "metadata": {},
   "outputs": [
    {
     "data": {
      "text/html": [
       "<div>\n",
       "<style scoped>\n",
       "    .dataframe tbody tr th:only-of-type {\n",
       "        vertical-align: middle;\n",
       "    }\n",
       "\n",
       "    .dataframe tbody tr th {\n",
       "        vertical-align: top;\n",
       "    }\n",
       "\n",
       "    .dataframe thead th {\n",
       "        text-align: right;\n",
       "    }\n",
       "</style>\n",
       "<table border=\"1\" class=\"dataframe\">\n",
       "  <thead>\n",
       "    <tr style=\"text-align: right;\">\n",
       "      <th></th>\n",
       "      <th>Gender</th>\n",
       "      <th>Height</th>\n",
       "      <th>Weight</th>\n",
       "      <th>Index</th>\n",
       "      <th>Status</th>\n",
       "      <th>BMI</th>\n",
       "    </tr>\n",
       "  </thead>\n",
       "  <tbody>\n",
       "    <tr>\n",
       "      <th>0</th>\n",
       "      <td>Male</td>\n",
       "      <td>174</td>\n",
       "      <td>96</td>\n",
       "      <td>4</td>\n",
       "      <td>Obesity</td>\n",
       "      <td>31.71</td>\n",
       "    </tr>\n",
       "    <tr>\n",
       "      <th>1</th>\n",
       "      <td>Male</td>\n",
       "      <td>189</td>\n",
       "      <td>87</td>\n",
       "      <td>2</td>\n",
       "      <td>Normal</td>\n",
       "      <td>24.36</td>\n",
       "    </tr>\n",
       "    <tr>\n",
       "      <th>2</th>\n",
       "      <td>Female</td>\n",
       "      <td>185</td>\n",
       "      <td>110</td>\n",
       "      <td>4</td>\n",
       "      <td>Obesity</td>\n",
       "      <td>32.14</td>\n",
       "    </tr>\n",
       "    <tr>\n",
       "      <th>3</th>\n",
       "      <td>Female</td>\n",
       "      <td>195</td>\n",
       "      <td>104</td>\n",
       "      <td>3</td>\n",
       "      <td>Overweight</td>\n",
       "      <td>27.35</td>\n",
       "    </tr>\n",
       "    <tr>\n",
       "      <th>4</th>\n",
       "      <td>Male</td>\n",
       "      <td>149</td>\n",
       "      <td>61</td>\n",
       "      <td>3</td>\n",
       "      <td>Overweight</td>\n",
       "      <td>27.48</td>\n",
       "    </tr>\n",
       "  </tbody>\n",
       "</table>\n",
       "</div>"
      ],
      "text/plain": [
       "   Gender  Height  Weight  Index      Status    BMI\n",
       "0    Male     174      96      4     Obesity  31.71\n",
       "1    Male     189      87      2      Normal  24.36\n",
       "2  Female     185     110      4     Obesity  32.14\n",
       "3  Female     195     104      3  Overweight  27.35\n",
       "4    Male     149      61      3  Overweight  27.48"
      ]
     },
     "execution_count": 27,
     "metadata": {},
     "output_type": "execute_result"
    }
   ],
   "source": [
    "df_2.head()"
   ]
  },
  {
   "cell_type": "code",
   "execution_count": 28,
   "metadata": {},
   "outputs": [
    {
     "data": {
      "text/plain": [
       "<AxesSubplot:title={'center':'Average BMI for each Index value'}, xlabel='Status', ylabel='BMI'>"
      ]
     },
     "execution_count": 28,
     "metadata": {},
     "output_type": "execute_result"
    },
    {
     "data": {
      "image/png": "[encoded data removed]",
      "text/plain": [
       "<Figure size 720x432 with 1 Axes>"
      ]
     },
     "metadata": {
      "needs_background": "light"
     },
     "output_type": "display_data"
    }
   ],
   "source": [
    "plt.figure(figsize = (10,6))\n",
    "plt.title(\"Average BMI for each Index value\")\n",
    "sns.barplot(x = df_2[\"Status\"], y = df_2[\"BMI\"], hue = df_2[\"Gender\"])"
   ]
  },
  {
   "cell_type": "code",
   "execution_count": 29,
   "metadata": {},
   "outputs": [
    {
     "data": {
      "text/html": [
       "<div>\n",
       "<style scoped>\n",
       "    .dataframe tbody tr th:only-of-type {\n",
       "        vertical-align: middle;\n",
       "    }\n",
       "\n",
       "    .dataframe tbody tr th {\n",
       "        vertical-align: top;\n",
       "    }\n",
       "\n",
       "    .dataframe thead th {\n",
       "        text-align: right;\n",
       "    }\n",
       "</style>\n",
       "<table border=\"1\" class=\"dataframe\">\n",
       "  <thead>\n",
       "    <tr style=\"text-align: right;\">\n",
       "      <th></th>\n",
       "      <th>Gender</th>\n",
       "      <th>Height</th>\n",
       "      <th>Weight</th>\n",
       "      <th>Index</th>\n",
       "      <th>Status</th>\n",
       "      <th>BMI</th>\n",
       "      <th>gender_m_f</th>\n",
       "    </tr>\n",
       "  </thead>\n",
       "  <tbody>\n",
       "    <tr>\n",
       "      <th>0</th>\n",
       "      <td>Male</td>\n",
       "      <td>174</td>\n",
       "      <td>96</td>\n",
       "      <td>4</td>\n",
       "      <td>Obesity</td>\n",
       "      <td>31.71</td>\n",
       "      <td>1</td>\n",
       "    </tr>\n",
       "    <tr>\n",
       "      <th>1</th>\n",
       "      <td>Male</td>\n",
       "      <td>189</td>\n",
       "      <td>87</td>\n",
       "      <td>2</td>\n",
       "      <td>Normal</td>\n",
       "      <td>24.36</td>\n",
       "      <td>1</td>\n",
       "    </tr>\n",
       "    <tr>\n",
       "      <th>2</th>\n",
       "      <td>Female</td>\n",
       "      <td>185</td>\n",
       "      <td>110</td>\n",
       "      <td>4</td>\n",
       "      <td>Obesity</td>\n",
       "      <td>32.14</td>\n",
       "      <td>0</td>\n",
       "    </tr>\n",
       "    <tr>\n",
       "      <th>3</th>\n",
       "      <td>Female</td>\n",
       "      <td>195</td>\n",
       "      <td>104</td>\n",
       "      <td>3</td>\n",
       "      <td>Overweight</td>\n",
       "      <td>27.35</td>\n",
       "      <td>0</td>\n",
       "    </tr>\n",
       "    <tr>\n",
       "      <th>4</th>\n",
       "      <td>Male</td>\n",
       "      <td>149</td>\n",
       "      <td>61</td>\n",
       "      <td>3</td>\n",
       "      <td>Overweight</td>\n",
       "      <td>27.48</td>\n",
       "      <td>1</td>\n",
       "    </tr>\n",
       "  </tbody>\n",
       "</table>\n",
       "</div>"
      ],
      "text/plain": [
       "   Gender  Height  Weight  Index      Status    BMI  gender_m_f\n",
       "0    Male     174      96      4     Obesity  31.71           1\n",
       "1    Male     189      87      2      Normal  24.36           1\n",
       "2  Female     185     110      4     Obesity  32.14           0\n",
       "3  Female     195     104      3  Overweight  27.35           0\n",
       "4    Male     149      61      3  Overweight  27.48           1"
      ]
     },
     "execution_count": 29,
     "metadata": {},
     "output_type": "execute_result"
    }
   ],
   "source": [
    "def convert_gender_to_label(x):\n",
    "    if x['Gender'] == 'Male':\n",
    "        return 1\n",
    "    elif x['Gender'] == 'Female':\n",
    "        return 0\n",
    "df_2['gender_m_f'] = df_2.apply(convert_gender_to_label,axis=1)\n",
    "df_2.head()"
   ]
  },
  {
   "cell_type": "code",
   "execution_count": 32,
   "metadata": {},
   "outputs": [],
   "source": [
    "# representing Health Status for Female and Male\n",
    "df_2_f= df_2[df_2['Gender']=='Female']\n",
    "dfF=df_2_f['Status'].value_counts()\n",
    "\n",
    "df_2_m= df_2[df_2['Gender']=='Male']\n",
    "dfM=df_2_m['Status'].value_counts()"
   ]
  },
  {
   "cell_type": "code",
   "execution_count": 33,
   "metadata": {},
   "outputs": [
    {
     "data": {
      "text/plain": [
       "<AxesSubplot:title={'center':'Percentage distribution for Females'}, ylabel='Status'>"
      ]
     },
     "execution_count": 33,
     "metadata": {},
     "output_type": "execute_result"
    },
    {
     "data": {
      "image/png": "[encoded data removed]",
      "text/plain": [
       "<Figure size 504x504 with 1 Axes>"
      ]
     },
     "metadata": {},
     "output_type": "display_data"
    }
   ],
   "source": [
    "plt.title(\"Percentage distribution for Females\")\n",
    "explode = (0.05,0.05,0.05,0.05,0.05,0.05)\n",
    "dfF.plot.pie(autopct=\"%.1f%%\",figsize=(7, 7),startangle=50,shadow=True,pctdistance=0.88,explode =explode )"
   ]
  },
  {
   "cell_type": "code",
   "execution_count": 34,
   "metadata": {},
   "outputs": [
    {
     "data": {
      "text/plain": [
       "<AxesSubplot:title={'center':'Percentage distribution for Males'}, ylabel='Status'>"
      ]
     },
     "execution_count": 34,
     "metadata": {},
     "output_type": "execute_result"
    },
    {
     "data": {
      "image/png": "[encoded data removed]",
      "text/plain": [
       "<Figure size 504x504 with 1 Axes>"
      ]
     },
     "metadata": {},
     "output_type": "display_data"
    }
   ],
   "source": [
    "plt.title(\"Percentage distribution for Males\")\n",
    "explode = (0.05,0.05,0.05,0.05,0.05,0.05)\n",
    "dfM.plot.pie(autopct=\"%.1f%%\",figsize=(7, 7),startangle=30,shadow=True,pctdistance=0.88,explode =explode)"
   ]
  },
  {
   "cell_type": "markdown",
   "metadata": {},
   "source": [
    "Females are more Extremely Weak than males\n",
    "\n",
    "Males are more Weak than females\n",
    "\n",
    "Females are more Normal than males\n",
    "\n",
    "Females are more Overweight than males\n",
    "\n",
    "Females are more Obese than males\n",
    "\n",
    "Males are more Extreme Obese than females"
   ]
  },
  {
   "cell_type": "markdown",
   "metadata": {},
   "source": [
    "# train test split and resampling before ML"
   ]
  },
  {
   "cell_type": "markdown",
   "metadata": {},
   "source": [
    "Prcessing Data"
   ]
  },
  {
   "cell_type": "code",
   "execution_count": 35,
   "metadata": {},
   "outputs": [],
   "source": [
    "#CONVERT  VARIABLES IN categories\n",
    "#Assign arbitrary numbers such as 1 to Female and 0 to Male (similar to a Boolean/Truth value) to differentiate them\n",
    "df['Gender']=df['Gender'].astype('category').cat.codes"
   ]
  },
  {
   "cell_type": "code",
   "execution_count": 36,
   "metadata": {},
   "outputs": [
    {
     "data": {
      "text/html": [
       "<div>\n",
       "<style scoped>\n",
       "    .dataframe tbody tr th:only-of-type {\n",
       "        vertical-align: middle;\n",
       "    }\n",
       "\n",
       "    .dataframe tbody tr th {\n",
       "        vertical-align: top;\n",
       "    }\n",
       "\n",
       "    .dataframe thead th {\n",
       "        text-align: right;\n",
       "    }\n",
       "</style>\n",
       "<table border=\"1\" class=\"dataframe\">\n",
       "  <thead>\n",
       "    <tr style=\"text-align: right;\">\n",
       "      <th></th>\n",
       "      <th>Gender</th>\n",
       "      <th>Height</th>\n",
       "      <th>Weight</th>\n",
       "      <th>Index</th>\n",
       "    </tr>\n",
       "  </thead>\n",
       "  <tbody>\n",
       "    <tr>\n",
       "      <th>0</th>\n",
       "      <td>1</td>\n",
       "      <td>174</td>\n",
       "      <td>96</td>\n",
       "      <td>4</td>\n",
       "    </tr>\n",
       "    <tr>\n",
       "      <th>1</th>\n",
       "      <td>1</td>\n",
       "      <td>189</td>\n",
       "      <td>87</td>\n",
       "      <td>2</td>\n",
       "    </tr>\n",
       "    <tr>\n",
       "      <th>2</th>\n",
       "      <td>0</td>\n",
       "      <td>185</td>\n",
       "      <td>110</td>\n",
       "      <td>4</td>\n",
       "    </tr>\n",
       "    <tr>\n",
       "      <th>3</th>\n",
       "      <td>0</td>\n",
       "      <td>195</td>\n",
       "      <td>104</td>\n",
       "      <td>3</td>\n",
       "    </tr>\n",
       "    <tr>\n",
       "      <th>4</th>\n",
       "      <td>1</td>\n",
       "      <td>149</td>\n",
       "      <td>61</td>\n",
       "      <td>3</td>\n",
       "    </tr>\n",
       "  </tbody>\n",
       "</table>\n",
       "</div>"
      ],
      "text/plain": [
       "   Gender  Height  Weight  Index\n",
       "0       1     174      96      4\n",
       "1       1     189      87      2\n",
       "2       0     185     110      4\n",
       "3       0     195     104      3\n",
       "4       1     149      61      3"
      ]
     },
     "execution_count": 36,
     "metadata": {},
     "output_type": "execute_result"
    }
   ],
   "source": [
    "df.head()"
   ]
  },
  {
   "cell_type": "markdown",
   "metadata": {},
   "source": [
    "For making our predictive model we will need to proceed with certain steps:\n",
    "\n",
    "Assign our data instances and target value (X and y columns)\n",
    "\n",
    "Split data into training and test sets\n",
    "\n",
    "Train our model\n",
    "\n",
    "Test and evaluate the model"
   ]
  },
  {
   "cell_type": "code",
   "execution_count": 37,
   "metadata": {},
   "outputs": [],
   "source": [
    "#Assign our data instances and target value (X and y columns)\n",
    "target_name = 'Index'\n",
    "X = df.drop('Index', axis=1)\n",
    "y=df[target_name]"
   ]
  },
  {
   "cell_type": "code",
   "execution_count": 38,
   "metadata": {},
   "outputs": [
    {
     "data": {
      "text/plain": [
       "((500, 3), (500,))"
      ]
     },
     "execution_count": 38,
     "metadata": {},
     "output_type": "execute_result"
    }
   ],
   "source": [
    "X.shape,y.shape"
   ]
  },
  {
   "cell_type": "code",
   "execution_count": 39,
   "metadata": {},
   "outputs": [],
   "source": [
    "#Split data into training and test sets\n",
    "from sklearn.model_selection import train_test_split\n",
    "\n",
    "X_train, X_test, y_train, y_test = train_test_split(X,y,test_size=0.20, random_state=123, stratify=y)"
   ]
  },
  {
   "cell_type": "code",
   "execution_count": 40,
   "metadata": {},
   "outputs": [],
   "source": [
    "#scaling data\n",
    "from sklearn.preprocessing import StandardScaler\n",
    "\n",
    "sc = StandardScaler()\n",
    "X_train = sc.fit_transform(X_train)\n",
    "X_test = sc.transform(X_test)"
   ]
  },
  {
   "cell_type": "code",
   "execution_count": 41,
   "metadata": {},
   "outputs": [],
   "source": [
    "#Split data into training and test sets\n",
    "#from sklearn.model_selection import train_test_split\n",
    "\n",
    "#X_train, X_test, y_train, y_test = train_test_split(X,y,test_size=0.20, random_state=123, stratify=y)"
   ]
  },
  {
   "cell_type": "code",
   "execution_count": 42,
   "metadata": {},
   "outputs": [
    {
     "name": "stdout",
     "output_type": "stream",
     "text": [
      "(400, 3) (400,)\n"
     ]
    }
   ],
   "source": [
    "print(X_train.shape,y_train.shape)"
   ]
  },
  {
   "cell_type": "code",
   "execution_count": 43,
   "metadata": {},
   "outputs": [
    {
     "data": {
      "text/plain": [
       "5    159\n",
       "4    104\n",
       "2     55\n",
       "3     54\n",
       "1     18\n",
       "0     10\n",
       "Name: Index, dtype: int64"
      ]
     },
     "execution_count": 43,
     "metadata": {},
     "output_type": "execute_result"
    }
   ],
   "source": [
    "y_train.value_counts()"
   ]
  },
  {
   "cell_type": "code",
   "execution_count": 44,
   "metadata": {
    "scrolled": true
   },
   "outputs": [
    {
     "name": "stdout",
     "output_type": "stream",
     "text": [
      "(954, 3) (954,)\n"
     ]
    }
   ],
   "source": [
    "#Let us try some sampling technique to remove class imbalance\n",
    "\n",
    "from imblearn.over_sampling import SMOTE\n",
    "\n",
    "#Over-sampling: SMOTE\n",
    "#SMOTE (Synthetic Minority Oversampling TEchnique) consists of synthesizing elements for the minority class, \n",
    "#based on those that already exist. It works randomly picking a point from the minority class and computing \n",
    "#the k-nearest neighbors for this point.The synthetic points are added between the chosen point and its neighbors.\n",
    "#We'll use ratio='minority' to resample the minority class.\n",
    "\n",
    "smote = SMOTE(random_state=12)\n",
    "X_train_sm, y_train_sm = smote.fit_sample(X_train, y_train)\n",
    "print(X_train_sm.shape, y_train_sm.shape)"
   ]
  },
  {
   "cell_type": "code",
   "execution_count": 45,
   "metadata": {},
   "outputs": [
    {
     "name": "stdout",
     "output_type": "stream",
     "text": [
      "5    159\n",
      "4    104\n",
      "2     55\n",
      "3     54\n",
      "1     18\n",
      "0     10\n",
      "Name: Index, dtype: int64 5    159\n",
      "4    159\n",
      "3    159\n",
      "2    159\n",
      "1    159\n",
      "0    159\n",
      "Name: Index, dtype: int64\n"
     ]
    }
   ],
   "source": [
    "print(y_train.value_counts(), y_train_sm.value_counts())"
   ]
  },
  {
   "cell_type": "code",
   "execution_count": 46,
   "metadata": {},
   "outputs": [
    {
     "data": {
      "image/png": "[encoded data removed]",
      "text/plain": [
       "<Figure size 720x360 with 1 Axes>"
      ]
     },
     "metadata": {
      "needs_background": "light"
     },
     "output_type": "display_data"
    }
   ],
   "source": [
    "fig = plt.figure(figsize = (10,5))\n",
    "ax = fig.gca()\n",
    "#y_train.hist(ax = ax)\n",
    "df_2.Status.hist(ax=ax)\n",
    "plt.show()"
   ]
  },
  {
   "cell_type": "code",
   "execution_count": 47,
   "metadata": {},
   "outputs": [
    {
     "data": {
      "image/png": "[encoded data removed]",
      "text/plain": [
       "<Figure size 720x360 with 1 Axes>"
      ]
     },
     "metadata": {
      "needs_background": "light"
     },
     "output_type": "display_data"
    }
   ],
   "source": [
    "fig = plt.figure(figsize = (10,5))\n",
    "ax = fig.gca()\n",
    "y_train_sm.hist(ax = ax)          \n",
    "plt.show()"
   ]
  },
  {
   "cell_type": "markdown",
   "metadata": {},
   "source": [
    "# ML MODEL"
   ]
  },
  {
   "cell_type": "code",
   "execution_count": 48,
   "metadata": {},
   "outputs": [],
   "source": [
    "from sklearn.linear_model import LogisticRegression\n",
    "from sklearn.model_selection import GridSearchCV\n",
    "from sklearn.metrics import confusion_matrix\n",
    "from sklearn.metrics import accuracy_score\n",
    "from sklearn.metrics import f1_score\n",
    "from sklearn.metrics import classification_report\n",
    "from sklearn.metrics import recall_score,precision_score,classification_report,roc_auc_score,roc_curve\n",
    "from sklearn.model_selection import cross_val_score\n",
    "from sklearn.model_selection import KFold\n",
    "from sklearn.model_selection import StratifiedKFold\n",
    "from sklearn.multiclass import OneVsRestClassifier"
   ]
  },
  {
   "cell_type": "markdown",
   "metadata": {},
   "source": [
    "# 1. Logistic Regression"
   ]
  },
  {
   "cell_type": "code",
   "execution_count": 49,
   "metadata": {},
   "outputs": [
    {
     "name": "stdout",
     "output_type": "stream",
     "text": [
      "[0.875 0.875 0.95  0.9   0.95  0.925 0.775 0.875 0.925 0.9  ]\n",
      "0.90 accuracy with a standard deviation of 0.05\n"
     ]
    }
   ],
   "source": [
    "#Logistic Regression Model CV\n",
    "\n",
    "logis = LogisticRegression( multi_class='multinomial',max_iter=2500,C=1e5,class_weight='balanced')\n",
    "clf=logis\n",
    "\n",
    "kf = StratifiedKFold(shuffle=True, n_splits=10)\n",
    "scores = cross_val_score(clf, X_train, y_train, cv=kf,scoring='accuracy')\n",
    "\n",
    "print(scores)\n",
    "print(\"%0.2f accuracy with a standard deviation of %0.2f\" % (scores.mean(), scores.std()))"
   ]
  },
  {
   "cell_type": "code",
   "execution_count": 50,
   "metadata": {},
   "outputs": [
    {
     "name": "stdout",
     "output_type": "stream",
     "text": [
      "Logistic accuracy is 0.94\n"
     ]
    }
   ],
   "source": [
    "# Check accuracy of Logistic Regression Model\n",
    "\n",
    "logis.fit(X_train_sm, y_train_sm)\n",
    "logis_pred=logis.predict(X_test)\n",
    "\n",
    "logis_accuracy=accuracy_score(y_test, logis_pred)\n",
    "print (\"Logistic accuracy is %2.2f\" % accuracy_score(y_test, logis_pred))"
   ]
  },
  {
   "cell_type": "code",
   "execution_count": 51,
   "metadata": {},
   "outputs": [
    {
     "name": "stdout",
     "output_type": "stream",
     "text": [
      "The f1 score for logistic regression is 94.0%\n"
     ]
    }
   ],
   "source": [
    "logis_f1 = f1_score(y_test, logis_pred,average='micro')\n",
    "                                          \n",
    "print(f'The f1 score for logistic regression is {round(logis_f1*100,6)}%')"
   ]
  },
  {
   "cell_type": "code",
   "execution_count": 52,
   "metadata": {},
   "outputs": [
    {
     "name": "stdout",
     "output_type": "stream",
     "text": [
      "              precision    recall  f1-score   support\n",
      "\n",
      "           0       1.00      1.00      1.00         3\n",
      "           1       0.67      1.00      0.80         4\n",
      "           2       0.92      0.79      0.85        14\n",
      "           3       0.87      0.93      0.90        14\n",
      "           4       0.96      0.96      0.96        26\n",
      "           5       1.00      0.97      0.99        39\n",
      "\n",
      "    accuracy                           0.94       100\n",
      "   macro avg       0.90      0.94      0.92       100\n",
      "weighted avg       0.95      0.94      0.94       100\n",
      "\n"
     ]
    }
   ],
   "source": [
    "#report for logistic regression\n",
    "print(classification_report(y_test,logis_pred))"
   ]
  },
  {
   "cell_type": "markdown",
   "metadata": {},
   "source": [
    "# 2. Random Forest"
   ]
  },
  {
   "cell_type": "code",
   "execution_count": 53,
   "metadata": {},
   "outputs": [],
   "source": [
    "from sklearn.ensemble import RandomForestClassifier"
   ]
  },
  {
   "cell_type": "code",
   "execution_count": 54,
   "metadata": {},
   "outputs": [],
   "source": [
    "# grid search for optimum parameters\n",
    "rf = RandomForestClassifier()\n",
    "params = {'bootstrap': [True],\n",
    "    'max_depth': [80, 90, 100, 110],\n",
    "    'max_features': [2, 3],\n",
    "    'min_samples_leaf': [3, 4, 5],\n",
    "    'min_samples_split': [8, 10, 12],\n",
    "    'n_estimators': [100, 200, 300, 1000]}\n",
    "rf_clf = GridSearchCV(rf, param_grid=params, n_jobs=-1)"
   ]
  },
  {
   "cell_type": "code",
   "execution_count": 55,
   "metadata": {},
   "outputs": [
    {
     "data": {
      "text/plain": [
       "{'bootstrap': True,\n",
       " 'max_depth': 80,\n",
       " 'max_features': 2,\n",
       " 'min_samples_leaf': 3,\n",
       " 'min_samples_split': 8,\n",
       " 'n_estimators': 100}"
      ]
     },
     "execution_count": 55,
     "metadata": {},
     "output_type": "execute_result"
    }
   ],
   "source": [
    "# train the model\n",
    "rf_clf.fit(X_train_sm,y_train_sm)\n",
    "rf_clf.best_params_"
   ]
  },
  {
   "cell_type": "code",
   "execution_count": 56,
   "metadata": {
    "scrolled": true
   },
   "outputs": [
    {
     "name": "stdout",
     "output_type": "stream",
     "text": [
      "[0.9   0.9   0.8   0.85  0.925 0.9   0.725 0.725 0.75  0.85 ]\n",
      "0.83 accuracy with a standard deviation of 0.07\n"
     ]
    }
   ],
   "source": [
    "# Random Forest Model CV\n",
    "rf = RandomForestClassifier(n_estimators=100,random_state=13, bootstrap=True,max_depth=10,min_samples_leaf=3,\n",
    "                            min_samples_split=2,max_features=3)\n",
    "clf=rf\n",
    "\n",
    "kf = KFold(shuffle=True, n_splits=10)\n",
    "scores = cross_val_score(clf, X_train, y_train, cv=kf,scoring='accuracy')\n",
    "print(scores)\n",
    "print(\"%0.2f accuracy with a standard deviation of %0.2f\" % (scores.mean(), scores.std()))"
   ]
  },
  {
   "cell_type": "code",
   "execution_count": 57,
   "metadata": {},
   "outputs": [
    {
     "name": "stdout",
     "output_type": "stream",
     "text": [
      "Random Forest accuracy is 0.91\n"
     ]
    }
   ],
   "source": [
    "# Random Forest Model\n",
    "\n",
    "rf.fit(X_train_sm, y_train_sm)\n",
    "rf_pred=rf.predict(X_test)\n",
    "\n",
    "rf_accuracy=accuracy_score(y_test, rf_pred)\n",
    "print(\"Random Forest accuracy is %2.2f\" % accuracy_score(y_test, rf_pred))"
   ]
  },
  {
   "cell_type": "code",
   "execution_count": 58,
   "metadata": {},
   "outputs": [
    {
     "name": "stdout",
     "output_type": "stream",
     "text": [
      "The f1 score for random forest is 91.0%\n"
     ]
    }
   ],
   "source": [
    "rf_f1 = f1_score(y_test, rf_pred,average='micro')\n",
    "                                          \n",
    "print(f'The f1 score for random forest is {round(rf_f1*100,6)}%')"
   ]
  },
  {
   "cell_type": "code",
   "execution_count": 59,
   "metadata": {},
   "outputs": [
    {
     "name": "stdout",
     "output_type": "stream",
     "text": [
      "The precision score for rf is 91.0%\n"
     ]
    }
   ],
   "source": [
    "rf_precision = precision_score(y_test, rf.predict(X_test),average='micro')\n",
    "                                          \n",
    "print(f'The precision score for rf is {round(rf_precision*100,6)}%')"
   ]
  },
  {
   "cell_type": "code",
   "execution_count": 60,
   "metadata": {},
   "outputs": [
    {
     "name": "stdout",
     "output_type": "stream",
     "text": [
      "              precision    recall  f1-score   support\n",
      "\n",
      "           0       1.00      1.00      1.00         3\n",
      "           1       0.80      1.00      0.89         4\n",
      "           2       0.81      0.93      0.87        14\n",
      "           3       0.92      0.79      0.85        14\n",
      "           4       0.92      0.88      0.90        26\n",
      "           5       0.95      0.95      0.95        39\n",
      "\n",
      "    accuracy                           0.91       100\n",
      "   macro avg       0.90      0.92      0.91       100\n",
      "weighted avg       0.91      0.91      0.91       100\n",
      "\n"
     ]
    }
   ],
   "source": [
    "#report for random forest\n",
    "print(classification_report(y_test,rf_pred))"
   ]
  },
  {
   "cell_type": "code",
   "execution_count": 61,
   "metadata": {},
   "outputs": [
    {
     "name": "stdout",
     "output_type": "stream",
     "text": [
      "Random Forest validation accuracy is 0.97\n"
     ]
    }
   ],
   "source": [
    "print(\"Random Forest validation accuracy is %2.2f\" % accuracy_score( y_train_sm,rf.predict(X_train_sm)))"
   ]
  },
  {
   "cell_type": "markdown",
   "metadata": {},
   "source": [
    "# 3. Gradient boost"
   ]
  },
  {
   "cell_type": "code",
   "execution_count": 62,
   "metadata": {},
   "outputs": [],
   "source": [
    "from sklearn.ensemble import GradientBoostingClassifier"
   ]
  },
  {
   "cell_type": "code",
   "execution_count": 437,
   "metadata": {},
   "outputs": [],
   "source": [
    "gb = GradientBoostingClassifier()\n",
    "# grid search for optimum parameters\n",
    "params = {\n",
    "    'max_depth': [80, 90, 100, 110],\n",
    "    'max_features': [2, 3],\n",
    "    'min_samples_leaf': [3, 4, 5],\n",
    "    'min_samples_split': [8, 10, 12],\n",
    "    'n_estimators': [100, 200, 300, 1000]}\n",
    "gb_clf = GridSearchCV(gb, param_grid=params, n_jobs=-1)"
   ]
  },
  {
   "cell_type": "code",
   "execution_count": 438,
   "metadata": {},
   "outputs": [
    {
     "data": {
      "text/plain": [
       "{'max_depth': 110,\n",
       " 'max_features': 3,\n",
       " 'min_samples_leaf': 5,\n",
       " 'min_samples_split': 10,\n",
       " 'n_estimators': 1000}"
      ]
     },
     "execution_count": 438,
     "metadata": {},
     "output_type": "execute_result"
    }
   ],
   "source": [
    "# train the model\n",
    "gb_clf.fit(X_train_sm,y_train_sm)\n",
    "gb_clf.best_params_"
   ]
  },
  {
   "cell_type": "code",
   "execution_count": 1297,
   "metadata": {},
   "outputs": [
    {
     "name": "stdout",
     "output_type": "stream",
     "text": [
      "[0.97058824 0.82352941 0.94117647 0.73529412 0.96969697 0.75757576\n",
      " 0.75757576 0.87878788 0.78787879 0.93939394 0.78787879 0.81818182]\n",
      "0.85 accuracy with a standard deviation of 0.08\n"
     ]
    }
   ],
   "source": [
    "# Gradient boost Model CV\n",
    "gb = GradientBoostingClassifier(random_state=13,max_depth=110,max_features=3,min_samples_leaf=5,min_samples_split=10,\n",
    "                                n_estimators=500)\n",
    "clf=gb\n",
    "\n",
    "kf = KFold(shuffle=True, n_splits=12)\n",
    "scores = cross_val_score(clf, X_train, y_train, cv=kf,scoring='accuracy')\n",
    "print(scores)\n",
    "print(\"%0.2f accuracy with a standard deviation of %0.2f\" % (scores.mean(), scores.std()))"
   ]
  },
  {
   "cell_type": "code",
   "execution_count": 1337,
   "metadata": {},
   "outputs": [
    {
     "name": "stdout",
     "output_type": "stream",
     "text": [
      "Gradient Boost accuracy is 0.89\n"
     ]
    }
   ],
   "source": [
    "# Gradient boost Model\n",
    "gb.fit(X_train_sm, y_train_sm)\n",
    "gb_pred=gb.predict(X_test)\n",
    "\n",
    "gb_accuracy=accuracy_score(y_test, gb_pred)\n",
    "print(\"Gradient Boost accuracy is %2.2f\" % accuracy_score(y_test, gb_pred))"
   ]
  },
  {
   "cell_type": "code",
   "execution_count": 1338,
   "metadata": {},
   "outputs": [
    {
     "name": "stdout",
     "output_type": "stream",
     "text": [
      "The f1 score for gradient boost is 89.0%\n"
     ]
    }
   ],
   "source": [
    "gb_f1 = f1_score(y_test, gb_pred,average='micro')\n",
    "                                          \n",
    "print(f'The f1 score for gradient boost is {round(gb_f1*100,6)}%')"
   ]
  },
  {
   "cell_type": "code",
   "execution_count": 1339,
   "metadata": {},
   "outputs": [
    {
     "name": "stdout",
     "output_type": "stream",
     "text": [
      "              precision    recall  f1-score   support\n",
      "\n",
      "           0       1.00      1.00      1.00         3\n",
      "           1       0.67      1.00      0.80         4\n",
      "           2       0.86      0.86      0.86        14\n",
      "           3       0.92      0.86      0.89        14\n",
      "           4       0.95      0.77      0.85        26\n",
      "           5       0.88      0.97      0.93        39\n",
      "\n",
      "    accuracy                           0.89       100\n",
      "   macro avg       0.88      0.91      0.89       100\n",
      "weighted avg       0.90      0.89      0.89       100\n",
      "\n"
     ]
    }
   ],
   "source": [
    "#report for gradient boost\n",
    "print(classification_report(y_test,gb_pred))"
   ]
  },
  {
   "cell_type": "markdown",
   "metadata": {},
   "source": [
    "# 4. Tensor flow"
   ]
  },
  {
   "cell_type": "code",
   "execution_count": 64,
   "metadata": {},
   "outputs": [],
   "source": [
    "import tensorflow as tf"
   ]
  },
  {
   "cell_type": "code",
   "execution_count": 65,
   "metadata": {},
   "outputs": [],
   "source": [
    "tf.random.set_random_seed(1)"
   ]
  },
  {
   "cell_type": "code",
   "execution_count": 66,
   "metadata": {},
   "outputs": [],
   "source": [
    "# classes in Activity\n",
    "num_classes=6"
   ]
  },
  {
   "cell_type": "code",
   "execution_count": 67,
   "metadata": {},
   "outputs": [],
   "source": [
    "inputs = tf.keras.Input(shape=(X_train_sm.shape[1],))#shape[1] is columns\n",
    "x = tf.keras.layers.Dense(64, activation='relu')(inputs)\n",
    "x = tf.keras.layers.Dense(64, activation='relu')(x)\n",
    "outputs = tf.keras.layers.Dense(num_classes, activation='softmax')(x)\n",
    "\n",
    "model = tf.keras.Model(inputs, outputs)"
   ]
  },
  {
   "cell_type": "code",
   "execution_count": 68,
   "metadata": {},
   "outputs": [
    {
     "name": "stdout",
     "output_type": "stream",
     "text": [
      "_________________________________________________________________\n",
      "Layer (type)                 Output Shape              Param #   \n",
      "=================================================================\n",
      "input_1 (InputLayer)         (None, 3)                 0         \n",
      "_________________________________________________________________\n",
      "dense (Dense)                (None, 64)                256       \n",
      "_________________________________________________________________\n",
      "dense_1 (Dense)              (None, 64)                4160      \n",
      "_________________________________________________________________\n",
      "dense_2 (Dense)              (None, 6)                 390       \n",
      "=================================================================\n",
      "Total params: 4,806\n",
      "Trainable params: 4,806\n",
      "Non-trainable params: 0\n",
      "_________________________________________________________________\n"
     ]
    }
   ],
   "source": [
    "model.summary()"
   ]
  },
  {
   "cell_type": "code",
   "execution_count": 73,
   "metadata": {},
   "outputs": [
    {
     "name": "stdout",
     "output_type": "stream",
     "text": [
      "Train on 763 samples, validate on 191 samples\n",
      "Epoch 1/70\n",
      "763/763 [==============================] - 0s 376us/step - loss: 0.2356 - acc: 0.9279 - val_loss: 0.4510 - val_acc: 0.8586\n",
      "Epoch 2/70\n",
      "763/763 [==============================] - 0s 25us/step - loss: 0.2290 - acc: 0.9410 - val_loss: 0.3987 - val_acc: 0.8901\n",
      "Epoch 3/70\n",
      "763/763 [==============================] - 0s 36us/step - loss: 0.2265 - acc: 0.9436 - val_loss: 0.4317 - val_acc: 0.8639\n",
      "Epoch 4/70\n",
      "763/763 [==============================] - 0s 22us/step - loss: 0.2237 - acc: 0.9463 - val_loss: 0.4165 - val_acc: 0.8691\n",
      "Epoch 5/70\n",
      "763/763 [==============================] - 0s 16us/step - loss: 0.2200 - acc: 0.9423 - val_loss: 0.4124 - val_acc: 0.8639\n",
      "Epoch 6/70\n",
      "763/763 [==============================] - 0s 16us/step - loss: 0.2177 - acc: 0.9423 - val_loss: 0.4111 - val_acc: 0.8691\n",
      "Epoch 7/70\n",
      "763/763 [==============================] - 0s 22us/step - loss: 0.2146 - acc: 0.9463 - val_loss: 0.4015 - val_acc: 0.8796\n",
      "Epoch 8/70\n",
      "763/763 [==============================] - 0s 19us/step - loss: 0.2123 - acc: 0.9476 - val_loss: 0.4053 - val_acc: 0.8743\n",
      "Epoch 9/70\n",
      "763/763 [==============================] - 0s 15us/step - loss: 0.2100 - acc: 0.9423 - val_loss: 0.3992 - val_acc: 0.8691\n",
      "Epoch 10/70\n",
      "763/763 [==============================] - 0s 14us/step - loss: 0.2099 - acc: 0.9384 - val_loss: 0.3924 - val_acc: 0.8743\n",
      "Epoch 11/70\n",
      "763/763 [==============================] - 0s 16us/step - loss: 0.2069 - acc: 0.9436 - val_loss: 0.4011 - val_acc: 0.8691\n",
      "Epoch 12/70\n",
      "763/763 [==============================] - 0s 25us/step - loss: 0.2059 - acc: 0.9450 - val_loss: 0.3926 - val_acc: 0.8691\n",
      "Epoch 13/70\n",
      "763/763 [==============================] - 0s 16us/step - loss: 0.2021 - acc: 0.9397 - val_loss: 0.3967 - val_acc: 0.8691\n",
      "Epoch 14/70\n",
      "763/763 [==============================] - 0s 16us/step - loss: 0.2020 - acc: 0.9476 - val_loss: 0.3860 - val_acc: 0.8796\n",
      "Epoch 15/70\n",
      "763/763 [==============================] - 0s 23us/step - loss: 0.2013 - acc: 0.9450 - val_loss: 0.3617 - val_acc: 0.8953\n",
      "Epoch 16/70\n",
      "763/763 [==============================] - 0s 20us/step - loss: 0.1988 - acc: 0.9423 - val_loss: 0.3858 - val_acc: 0.8743\n",
      "Epoch 17/70\n",
      "763/763 [==============================] - 0s 16us/step - loss: 0.1962 - acc: 0.9436 - val_loss: 0.3825 - val_acc: 0.8743\n",
      "Epoch 18/70\n",
      "763/763 [==============================] - 0s 22us/step - loss: 0.1943 - acc: 0.9450 - val_loss: 0.3801 - val_acc: 0.8743\n",
      "Epoch 19/70\n",
      "763/763 [==============================] - 0s 18us/step - loss: 0.1938 - acc: 0.9410 - val_loss: 0.3661 - val_acc: 0.8848\n",
      "Epoch 20/70\n",
      "763/763 [==============================] - 0s 17us/step - loss: 0.1911 - acc: 0.9450 - val_loss: 0.3777 - val_acc: 0.8743\n",
      "Epoch 21/70\n",
      "763/763 [==============================] - 0s 15us/step - loss: 0.1899 - acc: 0.9423 - val_loss: 0.3730 - val_acc: 0.8743\n",
      "Epoch 22/70\n",
      "763/763 [==============================] - 0s 24us/step - loss: 0.1878 - acc: 0.9436 - val_loss: 0.3597 - val_acc: 0.8796\n",
      "Epoch 23/70\n",
      "763/763 [==============================] - 0s 19us/step - loss: 0.1887 - acc: 0.9410 - val_loss: 0.3728 - val_acc: 0.8743\n",
      "Epoch 24/70\n",
      "763/763 [==============================] - 0s 18us/step - loss: 0.1861 - acc: 0.9476 - val_loss: 0.3615 - val_acc: 0.8848\n",
      "Epoch 25/70\n",
      "763/763 [==============================] - 0s 21us/step - loss: 0.1853 - acc: 0.9476 - val_loss: 0.3604 - val_acc: 0.8848\n",
      "Epoch 26/70\n",
      "763/763 [==============================] - 0s 21us/step - loss: 0.1843 - acc: 0.9463 - val_loss: 0.3708 - val_acc: 0.8743\n",
      "Epoch 27/70\n",
      "763/763 [==============================] - 0s 19us/step - loss: 0.1835 - acc: 0.9436 - val_loss: 0.3715 - val_acc: 0.8743\n",
      "Epoch 28/70\n",
      "763/763 [==============================] - 0s 28us/step - loss: 0.1838 - acc: 0.9410 - val_loss: 0.3593 - val_acc: 0.8901\n",
      "Epoch 29/70\n",
      "763/763 [==============================] - 0s 17us/step - loss: 0.1816 - acc: 0.9476 - val_loss: 0.3559 - val_acc: 0.8848\n",
      "Epoch 30/70\n",
      "763/763 [==============================] - 0s 18us/step - loss: 0.1781 - acc: 0.9476 - val_loss: 0.3612 - val_acc: 0.8796\n",
      "Epoch 31/70\n",
      "763/763 [==============================] - 0s 25us/step - loss: 0.1790 - acc: 0.9489 - val_loss: 0.3492 - val_acc: 0.8848\n",
      "Epoch 32/70\n",
      "763/763 [==============================] - 0s 22us/step - loss: 0.1773 - acc: 0.9476 - val_loss: 0.3556 - val_acc: 0.8848\n",
      "Epoch 33/70\n",
      "763/763 [==============================] - 0s 17us/step - loss: 0.1766 - acc: 0.9489 - val_loss: 0.3524 - val_acc: 0.8848\n",
      "Epoch 34/70\n",
      "763/763 [==============================] - 0s 15us/step - loss: 0.1765 - acc: 0.9450 - val_loss: 0.3425 - val_acc: 0.8848\n",
      "Epoch 35/70\n",
      "763/763 [==============================] - 0s 18us/step - loss: 0.1743 - acc: 0.9463 - val_loss: 0.3433 - val_acc: 0.8901\n",
      "Epoch 36/70\n",
      "763/763 [==============================] - 0s 18us/step - loss: 0.1716 - acc: 0.9463 - val_loss: 0.3515 - val_acc: 0.8796\n",
      "Epoch 37/70\n",
      "763/763 [==============================] - 0s 18us/step - loss: 0.1707 - acc: 0.9502 - val_loss: 0.3403 - val_acc: 0.8901\n",
      "Epoch 38/70\n",
      "763/763 [==============================] - 0s 19us/step - loss: 0.1716 - acc: 0.9489 - val_loss: 0.3510 - val_acc: 0.8848\n",
      "Epoch 39/70\n",
      "763/763 [==============================] - 0s 20us/step - loss: 0.1684 - acc: 0.9476 - val_loss: 0.3334 - val_acc: 0.8901\n",
      "Epoch 40/70\n",
      "763/763 [==============================] - 0s 16us/step - loss: 0.1697 - acc: 0.9436 - val_loss: 0.3239 - val_acc: 0.8953\n",
      "Epoch 41/70\n",
      "763/763 [==============================] - 0s 16us/step - loss: 0.1668 - acc: 0.9450 - val_loss: 0.3384 - val_acc: 0.8848\n",
      "Epoch 42/70\n",
      "763/763 [==============================] - 0s 29us/step - loss: 0.1654 - acc: 0.9489 - val_loss: 0.3568 - val_acc: 0.8848\n",
      "Epoch 43/70\n",
      "763/763 [==============================] - 0s 25us/step - loss: 0.1638 - acc: 0.9489 - val_loss: 0.3429 - val_acc: 0.8848\n",
      "Epoch 44/70\n",
      "763/763 [==============================] - 0s 32us/step - loss: 0.1643 - acc: 0.9515 - val_loss: 0.3165 - val_acc: 0.9005\n",
      "Epoch 45/70\n",
      "763/763 [==============================] - 0s 27us/step - loss: 0.1632 - acc: 0.9489 - val_loss: 0.3363 - val_acc: 0.8796\n",
      "Epoch 46/70\n",
      "763/763 [==============================] - 0s 23us/step - loss: 0.1627 - acc: 0.9489 - val_loss: 0.3167 - val_acc: 0.9005\n",
      "Epoch 47/70\n",
      "763/763 [==============================] - 0s 27us/step - loss: 0.1640 - acc: 0.9450 - val_loss: 0.3265 - val_acc: 0.9005\n",
      "Epoch 48/70\n",
      "763/763 [==============================] - 0s 20us/step - loss: 0.1651 - acc: 0.9436 - val_loss: 0.3215 - val_acc: 0.9005\n",
      "Epoch 49/70\n",
      "763/763 [==============================] - 0s 28us/step - loss: 0.1619 - acc: 0.9476 - val_loss: 0.3221 - val_acc: 0.8901\n",
      "Epoch 50/70\n",
      "763/763 [==============================] - 0s 20us/step - loss: 0.1657 - acc: 0.9528 - val_loss: 0.3194 - val_acc: 0.9005\n",
      "Epoch 51/70\n",
      "763/763 [==============================] - 0s 23us/step - loss: 0.1596 - acc: 0.9489 - val_loss: 0.3142 - val_acc: 0.8901\n",
      "Epoch 52/70\n",
      "763/763 [==============================] - 0s 21us/step - loss: 0.1575 - acc: 0.9502 - val_loss: 0.3359 - val_acc: 0.8796\n",
      "Epoch 53/70\n",
      "763/763 [==============================] - 0s 17us/step - loss: 0.1572 - acc: 0.9528 - val_loss: 0.3205 - val_acc: 0.9005\n",
      "Epoch 54/70\n",
      "763/763 [==============================] - 0s 21us/step - loss: 0.1555 - acc: 0.9515 - val_loss: 0.3247 - val_acc: 0.8953\n",
      "Epoch 55/70\n",
      "763/763 [==============================] - 0s 21us/step - loss: 0.1566 - acc: 0.9528 - val_loss: 0.3259 - val_acc: 0.8901\n",
      "Epoch 56/70\n",
      "763/763 [==============================] - 0s 22us/step - loss: 0.1539 - acc: 0.9554 - val_loss: 0.3138 - val_acc: 0.9005\n",
      "Epoch 57/70\n",
      "763/763 [==============================] - 0s 21us/step - loss: 0.1549 - acc: 0.9515 - val_loss: 0.3001 - val_acc: 0.9058\n",
      "Epoch 58/70\n",
      "763/763 [==============================] - 0s 22us/step - loss: 0.1532 - acc: 0.9541 - val_loss: 0.3196 - val_acc: 0.8901\n",
      "Epoch 59/70\n",
      "763/763 [==============================] - 0s 23us/step - loss: 0.1530 - acc: 0.9554 - val_loss: 0.3391 - val_acc: 0.8796\n",
      "Epoch 60/70\n",
      "763/763 [==============================] - 0s 20us/step - loss: 0.1528 - acc: 0.9528 - val_loss: 0.3052 - val_acc: 0.9058\n",
      "Epoch 61/70\n",
      "763/763 [==============================] - 0s 22us/step - loss: 0.1521 - acc: 0.9489 - val_loss: 0.2791 - val_acc: 0.9267\n",
      "Epoch 62/70\n",
      "763/763 [==============================] - 0s 20us/step - loss: 0.1536 - acc: 0.9515 - val_loss: 0.3243 - val_acc: 0.8848\n",
      "Epoch 63/70\n",
      "763/763 [==============================] - 0s 20us/step - loss: 0.1499 - acc: 0.9541 - val_loss: 0.3108 - val_acc: 0.9005\n",
      "Epoch 64/70\n",
      "763/763 [==============================] - 0s 19us/step - loss: 0.1504 - acc: 0.9554 - val_loss: 0.3071 - val_acc: 0.9005\n",
      "Epoch 65/70\n",
      "763/763 [==============================] - 0s 20us/step - loss: 0.1487 - acc: 0.9554 - val_loss: 0.3198 - val_acc: 0.8901\n",
      "Epoch 66/70\n",
      "763/763 [==============================] - 0s 18us/step - loss: 0.1507 - acc: 0.9541 - val_loss: 0.3062 - val_acc: 0.9110\n",
      "Epoch 67/70\n",
      "763/763 [==============================] - 0s 17us/step - loss: 0.1491 - acc: 0.9528 - val_loss: 0.2817 - val_acc: 0.9267\n",
      "Epoch 68/70\n",
      "763/763 [==============================] - 0s 19us/step - loss: 0.1508 - acc: 0.9528 - val_loss: 0.3132 - val_acc: 0.9005\n",
      "Epoch 69/70\n",
      "763/763 [==============================] - 0s 21us/step - loss: 0.1497 - acc: 0.9541 - val_loss: 0.3168 - val_acc: 0.8901\n",
      "Epoch 70/70\n",
      "763/763 [==============================] - 0s 18us/step - loss: 0.1470 - acc: 0.9489 - val_loss: 0.2935 - val_acc: 0.9058\n"
     ]
    }
   ],
   "source": [
    "batch_size = 100 \n",
    "# is a hyperparameter that defines the number of samples to work \n",
    "#through before updating the internal model parameters.\n",
    "batch_size = 100 \n",
    "epochs = 70\n",
    "\n",
    "#denotes number of times the learning algorithm will work through the training dataset.\n",
    "\n",
    "model.compile(optimizer='adam',loss='sparse_categorical_crossentropy',metrics=['accuracy'])\n",
    "\n",
    "history = model.fit( X_train_sm, \n",
    "                    y_train_sm,\n",
    "                    validation_split=0.2, \n",
    "                    batch_size=batch_size,\n",
    "                \n",
    "                    epochs=epochs, \n",
    ")\n",
    "\n",
    "#callbacks=[\n",
    "        #tf.keras.callbacks.ModelCheckpoint('./model.h5', save_best_only=True),\n",
    "        #tf.keras.callbacks.ReduceLROnPlateau(\n",
    "            #monitor='val_loss',\n",
    "            #factor=0.1,\n",
    "            #verbose=2,\n",
    "            #patience=1\n",
    "        #)\n",
    "    #]"
   ]
  },
  {
   "cell_type": "code",
   "execution_count": 74,
   "metadata": {},
   "outputs": [
    {
     "name": "stdout",
     "output_type": "stream",
     "text": [
      "100/100 [==============================] - 0s 14us/step\n"
     ]
    },
    {
     "data": {
      "text/plain": [
       "[0.20587259531021118, 0.9100000262260437]"
      ]
     },
     "execution_count": 74,
     "metadata": {},
     "output_type": "execute_result"
    }
   ],
   "source": [
    "model.evaluate(X_test, y_test, batch_size=batch_size)\n",
    "#tf_accuracy=accuracy_score(y_test, tf_pred)\n",
    "#print (\"neural network tf accuracy is %2.2f\" % accuracy_score(y_test, tf_pred))"
   ]
  },
  {
   "cell_type": "code",
   "execution_count": 76,
   "metadata": {},
   "outputs": [],
   "source": [
    "#tf_pred = model.predict(X_test).argmax(axis=1)\n",
    "#tf_matrix = metrics.confusion_matrix((y_test), (tf_pred))"
   ]
  },
  {
   "cell_type": "code",
   "execution_count": 77,
   "metadata": {},
   "outputs": [
    {
     "name": "stdout",
     "output_type": "stream",
     "text": [
      "The f1 score for Neural Network TF is 91.0%\n"
     ]
    }
   ],
   "source": [
    "tf_f1 = f1_score(y_test, tf_pred,average='micro')\n",
    "                                          \n",
    "print(f'The f1 score for Neural Network TF is {round(tf_f1*100,6)}%')"
   ]
  },
  {
   "cell_type": "code",
   "execution_count": 78,
   "metadata": {},
   "outputs": [
    {
     "name": "stdout",
     "output_type": "stream",
     "text": [
      "The precision score for Neural Network TF is 91.0%\n"
     ]
    }
   ],
   "source": [
    "tf_precision = precision_score(y_test, tf_pred,average='micro')\n",
    "                                          \n",
    "print(f'The precision score for Neural Network TF is {round(tf_precision*100,6)}%')"
   ]
  },
  {
   "cell_type": "code",
   "execution_count": 79,
   "metadata": {},
   "outputs": [
    {
     "name": "stdout",
     "output_type": "stream",
     "text": [
      "The recall score for Neural Network TF is 91.0%\n"
     ]
    }
   ],
   "source": [
    "tf_recall = recall_score(y_test, tf_pred,average='micro')\n",
    "                                          \n",
    "print(f'The recall score for Neural Network TF is {round(tf_recall*100,6)}%')"
   ]
  },
  {
   "cell_type": "code",
   "execution_count": 80,
   "metadata": {},
   "outputs": [
    {
     "name": "stdout",
     "output_type": "stream",
     "text": [
      "              precision    recall  f1-score   support\n",
      "\n",
      "           0       1.00      1.00      1.00         3\n",
      "           1       0.57      1.00      0.73         4\n",
      "           2       0.77      0.71      0.74        14\n",
      "           3       0.92      0.79      0.85        14\n",
      "           4       0.96      0.96      0.96        26\n",
      "           5       0.97      0.97      0.97        39\n",
      "\n",
      "    accuracy                           0.91       100\n",
      "   macro avg       0.87      0.91      0.88       100\n",
      "weighted avg       0.92      0.91      0.91       100\n",
      "\n"
     ]
    }
   ],
   "source": [
    "#report tf\n",
    "print(classification_report(y_test, tf_pred))"
   ]
  },
  {
   "cell_type": "markdown",
   "metadata": {},
   "source": [
    "# 5. support vector machine for multiclass classification"
   ]
  },
  {
   "cell_type": "code",
   "execution_count": 81,
   "metadata": {},
   "outputs": [],
   "source": [
    "from sklearn.svm import SVC"
   ]
  },
  {
   "cell_type": "code",
   "execution_count": 83,
   "metadata": {},
   "outputs": [
    {
     "name": "stdout",
     "output_type": "stream",
     "text": [
      "[0.96 0.98 0.92 0.94 0.9  0.96 0.96 0.9 ]\n",
      "0.94 accuracy with a standard deviation of 0.03\n"
     ]
    }
   ],
   "source": [
    "# SVM Model CV\n",
    "svmc = svmc = SVC(probability=True, gamma=0.001,C=1e5,decision_function_shape='ovo')\n",
    "clf=svmc\n",
    "\n",
    "kf = KFold(shuffle=True, n_splits=8)\n",
    "scores = cross_val_score(clf, X_train, y_train, cv=kf,scoring='accuracy')\n",
    "print(scores)\n",
    "print(\"%0.2f accuracy with a standard deviation of %0.2f\" % (scores.mean(), scores.std()))"
   ]
  },
  {
   "cell_type": "code",
   "execution_count": 84,
   "metadata": {},
   "outputs": [
    {
     "name": "stdout",
     "output_type": "stream",
     "text": [
      "svm accuracy is 0.96\n"
     ]
    }
   ],
   "source": [
    "# Check accuracy of Service Vector Machine\n",
    "svmc.fit(X_train_sm, y_train_sm)\n",
    "svmc_pred=svmc.predict(X_test)\n",
    "\n",
    "svmc_accuracy=accuracy_score(y_test, svmc_pred)\n",
    "print (\"svm accuracy is %2.2f\" % accuracy_score(y_test, svmc_pred))"
   ]
  },
  {
   "cell_type": "code",
   "execution_count": 85,
   "metadata": {},
   "outputs": [
    {
     "name": "stdout",
     "output_type": "stream",
     "text": [
      "The precision score for svmc is 96.0%\n"
     ]
    }
   ],
   "source": [
    "svmc_precision = precision_score(y_test, svmc_pred,average='micro')\n",
    "                                          \n",
    "print(f'The precision score for svmc is {round(svmc_precision*100,6)}%')"
   ]
  },
  {
   "cell_type": "code",
   "execution_count": 86,
   "metadata": {},
   "outputs": [
    {
     "name": "stdout",
     "output_type": "stream",
     "text": [
      "The f1 score for svm is 96.0%\n"
     ]
    }
   ],
   "source": [
    "svmc_f1 = f1_score(y_test, svmc.predict(X_test),average='micro')\n",
    "                                          \n",
    "print(f'The f1 score for svm is {round(svmc_f1*100,6)}%')"
   ]
  },
  {
   "cell_type": "code",
   "execution_count": 87,
   "metadata": {},
   "outputs": [
    {
     "name": "stdout",
     "output_type": "stream",
     "text": [
      "The recall score for svm is 96.0%\n"
     ]
    }
   ],
   "source": [
    "svmc_recall = recall_score(y_test, svmc.predict(X_test),average='micro')\n",
    "                                          \n",
    "print(f'The recall score for svm is {round(svmc_recall*100,6)}%')"
   ]
  },
  {
   "cell_type": "code",
   "execution_count": 88,
   "metadata": {},
   "outputs": [
    {
     "name": "stdout",
     "output_type": "stream",
     "text": [
      "              precision    recall  f1-score   support\n",
      "\n",
      "           0       0.75      1.00      0.86         3\n",
      "           1       0.80      1.00      0.89         4\n",
      "           2       1.00      0.79      0.88        14\n",
      "           3       0.93      1.00      0.97        14\n",
      "           4       1.00      0.96      0.98        26\n",
      "           5       0.97      1.00      0.99        39\n",
      "\n",
      "    accuracy                           0.96       100\n",
      "   macro avg       0.91      0.96      0.93       100\n",
      "weighted avg       0.97      0.96      0.96       100\n",
      "\n"
     ]
    }
   ],
   "source": [
    "#report svm\n",
    "print(classification_report(y_test, svmc.predict(X_test)))"
   ]
  },
  {
   "cell_type": "markdown",
   "metadata": {},
   "source": [
    "# Test and Evaluate the model"
   ]
  },
  {
   "cell_type": "code",
   "execution_count": 1407,
   "metadata": {},
   "outputs": [],
   "source": [
    "from sklearn import metrics\n",
    "from sklearn.metrics import accuracy_score, classification_report, precision_score, recall_score, confusion_matrix, precision_recall_curve\n",
    "\n",
    "## Confusion Matrix Random Forest\n",
    "logis_matrix = metrics.confusion_matrix(y_test, logis_pred)\n",
    "rf_matrix = metrics.confusion_matrix(y_test, rf.predict(X_test))\n",
    "svmc_matrix = metrics.confusion_matrix(y_test, svmc.predict(X_test))\n",
    "tf_matrix = metrics.confusion_matrix((y_test), (tf_pred))\n",
    "gb_matrix = metrics.confusion_matrix(y_test, gb.predict(X_test))"
   ]
  },
  {
   "cell_type": "code",
   "execution_count": 1408,
   "metadata": {},
   "outputs": [
    {
     "data": {
      "image/png": "[encoded data removed]",
      "text/plain": [
       "<Figure size 1440x720 with 5 Axes>"
      ]
     },
     "metadata": {},
     "output_type": "display_data"
    }
   ],
   "source": [
    "plt.figure(figsize=(20,10))\n",
    "\n",
    "plt.suptitle(\"Confusion Matrixes\",fontsize=15)\n",
    "plt.subplots_adjust(wspace = 0.4, hspace= 0.4)\n",
    "\n",
    "plt.subplot(2,3,1)\n",
    "plt.title(\"Logistic Regression Confusion Matrix\")\n",
    "sns.heatmap(logis_matrix ,annot=True,cmap=\"Blues\",fmt=\"d\",cbar=False, annot_kws={\"size\": 14})\n",
    "\n",
    "plt.subplot(2,3,2)\n",
    "plt.title(\"Random Forest Confusion Matrix\")\n",
    "sns.heatmap(rf_matrix ,annot=True,cmap=\"Blues\",fmt=\"d\",cbar=False, annot_kws={\"size\": 14})\n",
    "\n",
    "plt.subplot(2,3,3)\n",
    "plt.title(\"Support Vector Machine Confusion Matrix\")\n",
    "sns.heatmap(svmc_matrix ,annot=True,cmap=\"Blues\",fmt=\"d\",cbar=False, annot_kws={\"size\": 14})\n",
    "\n",
    "plt.subplot(2,3,4)\n",
    "plt.title(\"Neural Network Tensor flow Confusion Matrix\")\n",
    "sns.heatmap(tf_matrix,annot=True,cmap=\"Blues\",fmt=\"d\",cbar=False, annot_kws={\"size\": 14})\n",
    "\n",
    "plt.subplot(2,3,5)\n",
    "plt.title(\"Gradient Boost Confusion Matrix\")\n",
    "sns.heatmap(gb_matrix,annot=True,cmap=\"Blues\",fmt=\"d\",cbar=False, annot_kws={\"size\": 14})\n",
    "\n",
    "plt.show()"
   ]
  },
  {
   "cell_type": "markdown",
   "metadata": {},
   "source": [
    "Reminder: The confusion matrix shows you the TN, TP, FN, FP. Values on the diagonal is the counting of TP so the higher these values the better the predictive ability of the model."
   ]
  },
  {
   "cell_type": "markdown",
   "metadata": {},
   "source": [
    "# Model comparison"
   ]
  },
  {
   "cell_type": "code",
   "execution_count": 1409,
   "metadata": {},
   "outputs": [
    {
     "data": {
      "text/html": [
       "<div>\n",
       "<style scoped>\n",
       "    .dataframe tbody tr th:only-of-type {\n",
       "        vertical-align: middle;\n",
       "    }\n",
       "\n",
       "    .dataframe tbody tr th {\n",
       "        vertical-align: top;\n",
       "    }\n",
       "\n",
       "    .dataframe thead th {\n",
       "        text-align: right;\n",
       "    }\n",
       "</style>\n",
       "<table border=\"1\" class=\"dataframe\">\n",
       "  <thead>\n",
       "    <tr style=\"text-align: right;\">\n",
       "      <th></th>\n",
       "      <th>Accuracy</th>\n",
       "    </tr>\n",
       "  </thead>\n",
       "  <tbody>\n",
       "    <tr>\n",
       "      <th>Logistic regression</th>\n",
       "      <td>0.94</td>\n",
       "    </tr>\n",
       "    <tr>\n",
       "      <th>Neural Network TF</th>\n",
       "      <td>0.95</td>\n",
       "    </tr>\n",
       "    <tr>\n",
       "      <th>Random Forest</th>\n",
       "      <td>0.91</td>\n",
       "    </tr>\n",
       "    <tr>\n",
       "      <th>Support vector machine</th>\n",
       "      <td>0.96</td>\n",
       "    </tr>\n",
       "    <tr>\n",
       "      <th>Gradient Boost</th>\n",
       "      <td>0.89</td>\n",
       "    </tr>\n",
       "  </tbody>\n",
       "</table>\n",
       "</div>"
      ],
      "text/plain": [
       "                        Accuracy\n",
       "Logistic regression         0.94\n",
       "Neural Network TF           0.95\n",
       "Random Forest               0.91\n",
       "Support vector machine      0.96\n",
       "Gradient Boost              0.89"
      ]
     },
     "execution_count": 1409,
     "metadata": {},
     "output_type": "execute_result"
    }
   ],
   "source": [
    "comparison = pd.DataFrame({\n",
    "    \"Logistic regression\":{'Accuracy':logis_accuracy},\n",
    "    \"Neural Network TF\":{'Accuracy':tf_accuracy},\n",
    "    \"Random Forest\":{'Accuracy':rf_accuracy},\n",
    "    \"Support vector machine\":{'Accuracy':svmc_accuracy},\n",
    "    \"Gradient Boost\":{'Accuracy':gb_accuracy}\n",
    "}).T\n",
    "\n",
    "comparison"
   ]
  },
  {
   "cell_type": "code",
   "execution_count": 90,
   "metadata": {},
   "outputs": [
    {
     "data": {
      "text/plain": [
       "array([2])"
      ]
     },
     "execution_count": 90,
     "metadata": {},
     "output_type": "execute_result"
    }
   ],
   "source": [
    "\n",
    "Xnew = [[0,181,72]] #Enter New Value: [Gender, Height, Weight]\n",
    "Xnew = sc.transform(Xnew)\n",
    "ynew = svmc.predict(Xnew)\n",
    "ynew"
   ]
  },
  {
   "cell_type": "code",
   "execution_count": null,
   "metadata": {},
   "outputs": [],
   "source": []
  }
 ],
 "metadata": {
  "kernelspec": {
   "display_name": "Python 3 (ipykernel)",
   "language": "python",
   "name": "python3"
  },
  "language_info": {
   "codemirror_mode": {
    "name": "ipython",
    "version": 3
   },
   "file_extension": ".py",
   "mimetype": "text/x-python",
   "name": "python",
   "nbconvert_exporter": "python",
   "pygments_lexer": "ipython3",
   "version": "3.9.12"
  }
 },
 "nbformat": 4,
 "nbformat_minor": 4
}
